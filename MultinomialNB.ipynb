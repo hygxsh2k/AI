{
 "cells": [
  {
   "cell_type": "code",
   "execution_count": 1,
   "metadata": {},
   "outputs": [],
   "source": [
    "# 多項分布ナイーブベイズによるテキストの分類"
   ]
  },
  {
   "cell_type": "code",
   "execution_count": 5,
   "metadata": {},
   "outputs": [],
   "source": [
    "from sklearn.datasets import fetch_20newsgroups\n",
    "from sklearn.feature_extraction.text import TfidfVectorizer\n",
    "from sklearn.naive_bayes import MultinomialNB\n",
    "from sklearn.pipeline import make_pipeline\n",
    "from sklearn.metrics import confusion_matrix"
   ]
  },
  {
   "cell_type": "code",
   "execution_count": 7,
   "metadata": {},
   "outputs": [
    {
     "data": {
      "text/plain": [
       "['alt.atheism',\n",
       " 'comp.graphics',\n",
       " 'comp.os.ms-windows.misc',\n",
       " 'comp.sys.ibm.pc.hardware',\n",
       " 'comp.sys.mac.hardware',\n",
       " 'comp.windows.x',\n",
       " 'misc.forsale',\n",
       " 'rec.autos',\n",
       " 'rec.motorcycles',\n",
       " 'rec.sport.baseball',\n",
       " 'rec.sport.hockey',\n",
       " 'sci.crypt',\n",
       " 'sci.electronics',\n",
       " 'sci.med',\n",
       " 'sci.space',\n",
       " 'soc.religion.christian',\n",
       " 'talk.politics.guns',\n",
       " 'talk.politics.mideast',\n",
       " 'talk.politics.misc',\n",
       " 'talk.religion.misc']"
      ]
     },
     "execution_count": 7,
     "metadata": {},
     "output_type": "execute_result"
    }
   ],
   "source": [
    "# 20個のニュースカテゴリからなるデータをロードする\n",
    "data = fetch_20newsgroups()\n",
    "data.target_names"
   ]
  },
  {
   "cell_type": "code",
   "execution_count": 9,
   "metadata": {},
   "outputs": [],
   "source": [
    "# 対象のカテゴリを絞る\n",
    "categories = ['talk.politics.misc', 'soc.religion.christian', \n",
    "              'sci.space', 'comp.graphics']\n",
    "train = fetch_20newsgroups(subset='train', categories=categories)\n",
    "test  = fetch_20newsgroups(subset='test' , categories=categories)"
   ]
  },
  {
   "cell_type": "code",
   "execution_count": 32,
   "metadata": {},
   "outputs": [
    {
     "data": {
      "text/plain": [
       "(2241, 1491)"
      ]
     },
     "execution_count": 32,
     "metadata": {},
     "output_type": "execute_result"
    }
   ],
   "source": [
    "len(train.data), len(test.data)"
   ]
  },
  {
   "cell_type": "code",
   "execution_count": 10,
   "metadata": {},
   "outputs": [
    {
     "name": "stdout",
     "output_type": "stream",
     "text": [
      "From: kennejs@a.cs.okstate.edu (KENNEDY JAMES SCOT)\n",
      "Subject: We're winning the war on drugs.  Not!\n",
      "Organization: Oklahoma State University, Computer Science, Stillwater\n",
      "Keywords: drugs DEA WOD legalization\n",
      "Lines: 140\n",
      "\n",
      "The DEA and other organizations would have the American people\n",
      "believe that we are winning the \"war on drugs\".  I'm going to\n",
      "dispel the propaganda that the DEA is putting out by showing\n",
      "you the drug war's *real* status. To help prove my assertions\n",
      "I've also posted two articles from USA Today that clearly\n",
      "demonstrate that drug use among certain age groups *is* on the\n",
      "rise.  If WOD is working, as we're led to believe, then drug\n",
      "abuse should have gone down substantially by now.  The reality\n",
      "is, is that it has not gone down very much.  If anything,\n",
      "substance abuse is on the rise.  I'm also going to supply a\n",
      "possible solution to this problem.\n",
      "\n",
      "The following text is an excerpt from an article about rock music\n",
      "and pot entitled \"Hello Again, Mary Jane\" which appears in the\n",
      "current issue of Time magazine (April 19, 1993, p. 59).\n",
      "\n",
      "    Law-enforcement officials say pot advocates are just blowing\n",
      "    smoke when they talk about the comeback of the weed.  \"Perhaps\n",
      "    because of the change of administrations, the marijuana lobby\n",
      "    is out in full force,\" says Robert Bonner, head of the Drug\n",
      "    Enforcement Administration.  \"The fact is, they're losing the\n",
      "    battle.\"  In 1985 more than 23% of youths ages 12 to 17 said\n",
      "    they smoked marijuana; in 1991 that figure was 13%, and Bonner\n",
      "    says it is still falling.  Bonner also offers a reminder that\n",
      "    studies confirm such marijuana health risks as destruction of\n",
      "    nerve cells in the brain and lung damage.\n",
      "\n",
      "The chart that follows was taken from the Wednesday, April 14, 1993\n",
      "issue of USA Today (\"Drug Use Up Among U.S. Eigth-graders\" by Mike\n",
      "Snider, p. 6D).\n",
      "\n",
      "    Adolescents' choices\n",
      "\n",
      "    Drugs used by eighth graders in the last month:\n",
      "                      Estimated, per 100 students\n",
      "                             1991     1992   Pct. chg.\n",
      "    Alcohol                  25.1     26.1        +4%\n",
      "    Cigarettes               14.3     15.5        +8%\n",
      "    Marijuana                 3.2      3.7       +16% \n",
      "    Amphetamines              2.6      3.3       +27%\n",
      "    LSD                       0.6      0.9       +50%\n",
      "    Cocaine                   0.5      0.7       +40%\n",
      "    Crack                     0.3      0.5       +67%\n",
      "\n",
      "    Source:  University of Michigan Institute for Social Research,\n",
      "    1993 report\n",
      "\n",
      "We are not winning the \"war on drugs\".  I think you can see that one\n",
      "of the tactics that the DEA employs to give people the impression that\n",
      "the \"war on drugs\" is being won is to selectively quote statistics---\n",
      "only statistics that support their contention that drug use has gone\n",
      "down.  The excerpt from Time magazine that I included in this post is\n",
      "an excellent example of how organizations like the DEA attempt to\n",
      "deceive the public.\n",
      "\n",
      "Usage of *one* particular drug may have gone down but at the same\n",
      "time usage of other drugs may have gone *up* (a.k.a. substitution).\n",
      "Also, drug usage among *one* particular age group may have gone down\n",
      "but drug usage among another age group may have gone *up*.  Therefore,\n",
      "if one takes a look at the big picture, taking into consideration *all*\n",
      "the statistics, then it's obvious that the so-called \"war on drugs\" is\n",
      "being lost.  Perhaps the drug war is being won as far as illegal drugs\n",
      "go, but if one factors in alcohol abuse, smoking, and use of inhalants,\n",
      "then the magnitude of the drug problem in this country can then placed\n",
      "in its true perspective.\n",
      "\n",
      "For those of you who don't consider alcohol to be a drug then try\n",
      "drinking a fifth of whiskey sometime and then come back and tell me\n",
      "that it's not a drug.  Agencies like the DEA only go after *illegal*\n",
      "drugs.  This is one of the reasons why the drug war is a fruitless\n",
      "attempt at preventing substance abuse---people will merely switch to\n",
      "another drug if the one they were using becomes scarce or unpopular.\n",
      "\n",
      "The solution to the drug abuse problem in this country may be to\n",
      "legalize some---not all---drugs whose toxicity has been shown to be\n",
      "within reasonable limits (you won't drop dead after using it a few\n",
      "times) and then couple this with a massive drug education program.\n",
      "The reason why I think legalization is *part* of the solution is\n",
      "because people seem to be able to easily obtain drugs despite the\n",
      "government's efforts to the contrary---the money spent on drug\n",
      "interdiction could be spent more effectively elsewhere (e.g., drug\n",
      "education).  Additionally, legalization would reduce crime because\n",
      "the profit motive would be taken out of drug trafficking which often\n",
      "goes along with other kinds of crime.  Not to mention the fact that\n",
      "addicts would have less reason to prey on innocent people for their\n",
      "money and posessions in order to support their expensive habit;\n",
      "legalization would cause the street price of drugs to fall\n",
      "substantially so drugs would be much more affordable to addicts.\n",
      "\n",
      "IMHO, the way to reduce substance abuse is to do to drugs what has been\n",
      "done to smokers:  make drug use socially unacceptable rather than try to\n",
      "employ heavy-handed law enforcement and punish people by incarcerating\n",
      "them.  As you already know, people in the U.S. smoke a lot less than\n",
      "they used to.  This reduction in the number of smokers has been brought\n",
      "about by public awareness campaigns, laws restricting where people can\n",
      "light up, warning labels on cigarette packages, taxation on tobacco in\n",
      "order to reduce consumption, and so on.  I propose that similar methods\n",
      "be used to reduce substance abuse after legalization has been carried\n",
      "out.  They are as follows:\n",
      "\n",
      "    * Drugs being sold must come with clear, concise information which\n",
      "      states the possible health hazzards involved with using this\n",
      "      product and recommendations on how the drug should be used.\n",
      "      Things like dosage levels and how long the drug should be used\n",
      "      ought to accompany the packaging the drug is contained in.\n",
      "\n",
      "    * All drugs should be taxed at a rate that generates a lot of\n",
      "      revenue but not so high as to encourage people to acquire drugs\n",
      "      through illegal channels.  Part of the revenue collected from\n",
      "      drug taxes should be used to fund drug education and law\n",
      "      enforcement.\n",
      "\n",
      "    * Make it a felony to sell drugs to minors (people under the age of\n",
      "      18).  Anyone can sell drugs but they must not dodge paying the\n",
      "      taxes on drugs or sell drugs with the warning information absent.\n",
      "      Failure to pay the appropiate taxes on drugs or omitting warning\n",
      "      information should also be a felony.\n",
      "\n",
      "    * Establish a government agency whose job is to insure that the\n",
      "      purity and safety of all drugs is as high as possible.  This\n",
      "      agency would try to prevent people from getting a hold of bad\n",
      "      drugs---something that is a fairly serious problem now.\n",
      "\n",
      "I'm sure that many of the things I've discussed in this article have\n",
      "been hashed out before in this newsgroup.  Nevertheless, I thought\n",
      "it was a good idea to give my two cents (actually a buck and a half...)\n",
      "all at once so you could get a good idea of where I currently stand on\n",
      "WOD.  Go ahead and tear into my post; I'm sure there is something in it\n",
      "that you may wish to take a different view on or flame. :) :) :)  BTW,\n",
      "I posted the articles from USA Today to not only help prove my\n",
      "assertions but also to provide information on LSD usage among youths---\n",
      "something which I noticed some posters to this group were interested in.\n",
      "\n",
      "Scott Kennedy,  Brewer and Patriot\n",
      "\n",
      "Before:  \"David Koresh is a cheap thug who interprets\n",
      "          the Bible through the barrel of a gun...\"  --ATF spokesman\n",
      "After:   \"[The ATF] is a cheap thug who interprets\n",
      "          [the Constitution] through the barrel of a gun...\"  --Me\n",
      "\n",
      "\n"
     ]
    }
   ],
   "source": [
    "# データのサンプルをひとつ取って中身を確認する\n",
    "print(train.data[42])"
   ]
  },
  {
   "cell_type": "code",
   "execution_count": 11,
   "metadata": {},
   "outputs": [],
   "source": [
    "# TF-IDFベクトル化器を使用して、テキストデータを数値のベクトルに変換する\n",
    "# TF-IDFベクトル化器から多項分布ナイーブベイズへのパイプラインを作成する\n",
    "model = make_pipeline(TfidfVectorizer(), MultinomialNB())"
   ]
  },
  {
   "cell_type": "code",
   "execution_count": 12,
   "metadata": {},
   "outputs": [],
   "source": [
    "# 機械学習を実行する\n",
    "model.fit(train.data, train.target)\n",
    "labels = model.predict(test.data)"
   ]
  },
  {
   "cell_type": "code",
   "execution_count": 16,
   "metadata": {},
   "outputs": [
    {
     "data": {
      "image/png": "[encoded data removed]",
      "text/plain": [
       "<Figure size 432x288 with 1 Axes>"
      ]
     },
     "metadata": {
      "needs_background": "light"
     },
     "output_type": "display_data"
    }
   ],
   "source": [
    "# 学習結果をヒートマップで表示する\n",
    "mat = confusion_matrix(test.target, labels)\n",
    "import seaborn as sns\n",
    "import matplotlib.pyplot as plt\n",
    "sns.heatmap(mat.T, square=True, annot=True, fmt='d', cbar=False, xticklabels=train.target_names, yticklabels=train.target_names, cmap='RdPu')\n",
    "plt.xlabel('true label')\n",
    "plt.ylabel('predicted label');"
   ]
  },
  {
   "cell_type": "code",
   "execution_count": 17,
   "metadata": {},
   "outputs": [],
   "source": [
    "# 任意の文字列を評価する\n",
    "def predict_category(s, train=train, model=model):\n",
    "    pred = model.predict([s])\n",
    "    return train.target_names[pred[0]]"
   ]
  },
  {
   "cell_type": "code",
   "execution_count": 18,
   "metadata": {},
   "outputs": [
    {
     "data": {
      "text/plain": [
       "'sci.space'"
      ]
     },
     "execution_count": 18,
     "metadata": {},
     "output_type": "execute_result"
    }
   ],
   "source": [
    "predict_category('sending a payload to the ISS')"
   ]
  },
  {
   "cell_type": "code",
   "execution_count": 19,
   "metadata": {},
   "outputs": [
    {
     "data": {
      "text/plain": [
       "'soc.religion.christian'"
      ]
     },
     "execution_count": 19,
     "metadata": {},
     "output_type": "execute_result"
    }
   ],
   "source": [
    "predict_category('discussing islam vs atheism')"
   ]
  },
  {
   "cell_type": "code",
   "execution_count": 20,
   "metadata": {},
   "outputs": [
    {
     "data": {
      "text/plain": [
       "'comp.graphics'"
      ]
     },
     "execution_count": 20,
     "metadata": {},
     "output_type": "execute_result"
    }
   ],
   "source": [
    "predict_category('determining the screen resolution')"
   ]
  },
  {
   "cell_type": "code",
   "execution_count": 22,
   "metadata": {},
   "outputs": [
    {
     "data": {
      "text/plain": [
       "'sci.space'"
      ]
     },
     "execution_count": 22,
     "metadata": {},
     "output_type": "execute_result"
    }
   ],
   "source": [
    "predict_category('I like the Earth')"
   ]
  },
  {
   "cell_type": "code",
   "execution_count": null,
   "metadata": {},
   "outputs": [],
   "source": []
  }
 ],
 "metadata": {
  "kernelspec": {
   "display_name": "Python 3",
   "language": "python",
   "name": "python3"
  },
  "language_info": {
   "codemirror_mode": {
    "name": "ipython",
    "version": 3
   },
   "file_extension": ".py",
   "mimetype": "text/x-python",
   "name": "python",
   "nbconvert_exporter": "python",
   "pygments_lexer": "ipython3",
   "version": "3.5.6"
  }
 },
 "nbformat": 4,
 "nbformat_minor": 2
}
